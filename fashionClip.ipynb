{
 "cells": [
  {
   "cell_type": "code",
   "execution_count": 1,
   "metadata": {},
   "outputs": [],
   "source": [
    "# from fashion_clip.fashion_clip import FashionCLIP\n",
    "\n",
    "from sklearn.metrics import *\n",
    "import torch.nn as nn\n",
    "import torch\n",
    "from transformers import AutoTokenizer, AutoModel"
   ]
  },
  {
   "cell_type": "code",
   "execution_count": 2,
   "metadata": {},
   "outputs": [],
   "source": [
    "if torch.cuda.is_available():\n",
    "    device = torch.device(\"cuda\")  # GPUデバイスを取得\n",
    "else:\n",
    "    device = torch.device(\"cpu\")  # CPUデバイスを取得"
   ]
  },
  {
   "cell_type": "code",
   "execution_count": 3,
   "metadata": {},
   "outputs": [],
   "source": [
    "\"\"\"\n",
    "テキスト処理のモデル\n",
    "\"\"\"\n",
    "class CaptionEncoder(nn.Module):\n",
    "  def __init__(self):\n",
    "    super().__init__()\n",
    "    self.bert = AutoModel.from_pretrained(\"cl-tohoku/bert-base-japanese-v2\")\n",
    "    self.fc = nn.Linear(768, 512)\n",
    "  def forward(self, x):\n",
    "    x = self.bert(x)\n",
    "    x = torch.max(x.last_hidden_state, dim=1)[0]  # max pooling\n",
    "    x = self.fc(x)\n",
    "    return x"
   ]
  },
  {
   "cell_type": "code",
   "execution_count": 4,
   "metadata": {},
   "outputs": [],
   "source": [
    "from FashionClipDataset import FashionClipDataset\n",
    "\n",
    "\n",
    "dataset = FashionClipDataset('./data/anotation_new.csv', 'image_tensor/tensor_0-100000.pt')"
   ]
  },
  {
   "cell_type": "code",
   "execution_count": 5,
   "metadata": {},
   "outputs": [],
   "source": [
    "from torch.utils.data import DataLoader\n",
    "learning_rate = 1e-5\n",
    "batch_size = 32\n",
    "epochs = 10\n",
    "train_size = int(0.8 * len(dataset))\n",
    "val_size = len(dataset) - train_size\n",
    "\n",
    "train_dataset, test_dataset = torch.utils.data.random_split(\n",
    "    dataset, [train_size, val_size]\n",
    ")\n",
    "\n",
    "train_dataloader = DataLoader(train_dataset, batch_size=batch_size, shuffle=True, pin_memory=True)\n",
    "test_dataloader = DataLoader(test_dataset, batch_size=batch_size, shuffle=True, pin_memory=True)"
   ]
  },
  {
   "cell_type": "code",
   "execution_count": 6,
   "metadata": {},
   "outputs": [
    {
     "name": "stderr",
     "output_type": "stream",
     "text": [
      "Some weights of the model checkpoint at cl-tohoku/bert-base-japanese-v2 were not used when initializing BertModel: ['cls.seq_relationship.weight', 'cls.predictions.bias', 'cls.seq_relationship.bias', 'cls.predictions.transform.dense.bias', 'cls.predictions.transform.LayerNorm.bias', 'cls.predictions.transform.LayerNorm.weight', 'cls.predictions.decoder.bias', 'cls.predictions.decoder.weight', 'cls.predictions.transform.dense.weight']\n",
      "- This IS expected if you are initializing BertModel from the checkpoint of a model trained on another task or with another architecture (e.g. initializing a BertForSequenceClassification model from a BertForPreTraining model).\n",
      "- This IS NOT expected if you are initializing BertModel from the checkpoint of a model that you expect to be exactly identical (initializing a BertForSequenceClassification model from a BertForSequenceClassification model).\n"
     ]
    }
   ],
   "source": [
    "\n",
    "import torch.nn.functional as F\n",
    "import sys\n",
    "import os\n",
    "sys.path.append(os.path.abspath(\"../\"))\n",
    "from models.ContrastiveLoss import ContrastiveLoss\n",
    "\n",
    "caption_model = CaptionEncoder().to(device)\n",
    "cpt_optimizer = torch.optim.SGD(caption_model.parameters(), lr=learning_rate)\n",
    "\n",
    "loss_fn = ContrastiveLoss()\n",
    "tokenizer = AutoTokenizer.from_pretrained(\"cl-tohoku/bert-base-japanese-v2\")"
   ]
  },
  {
   "cell_type": "code",
   "execution_count": 7,
   "metadata": {},
   "outputs": [],
   "source": [
    "def train_loop(dataloader, cpt_model,  loss_fn, cpt_opt):\n",
    "    size = len(dataloader.dataset)\n",
    "    for batch, (img, cap, label) in enumerate(dataloader):        \n",
    "        # 予測と損失の計算\n",
    "        img = img.to(device)\n",
    "        label = label.to(device)\n",
    "        ids = tokenizer.encode(cap, return_tensors='pt')\n",
    "        ids = ids.to(device)\n",
    "        target = cpt_model(ids)\n",
    "        # print(pred.shape, target.shape, len(X), len(y))\n",
    "        # ここ不安\n",
    "        loss = loss_fn(img, target, label)\n",
    "\n",
    "        # バックプロパゲーション\n",
    "        cpt_opt.zero_grad()\n",
    "        loss.backward()\n",
    "        cpt_opt.step()\n",
    "\n",
    "        if batch % 100 == 0:\n",
    "            loss, current = loss.item() / len(img), batch * len(img)\n",
    "            print(f\"loss: {loss:>7f}  [{current:>5d}/{size:>5d}]\")\n",
    "\n",
    "\n",
    "def test_loop(dataloader, cpt_model,  loss_fn):\n",
    "    size = len(dataloader.dataset)\n",
    "    test_loss = 0\n",
    "\n",
    "    with torch.no_grad():\n",
    "        for (img, cap, label) in dataloader:\n",
    "            # 予測と損失の計算\n",
    "            img = img.to(device)\n",
    "            label = label.to(device)\n",
    "\n",
    "            ids = tokenizer.encode(cap, return_tensors='pt')\n",
    "            ids = ids.to(device)\n",
    "            target = cpt_model(ids)\n",
    "            # print(pred.shape, target.shape, len(X), len(y))\n",
    "            # ここ不安\n",
    "            loss = loss_fn(img, target, label).mean()\n",
    "            test_loss += loss.item()\n",
    "            \n",
    "    test_loss /= size\n",
    "    print(f\"Avg loss: {test_loss:>8f} \\n\")\n",
    "    return test_loss"
   ]
  },
  {
   "cell_type": "code",
   "execution_count": 8,
   "metadata": {},
   "outputs": [
    {
     "name": "stdout",
     "output_type": "stream",
     "text": [
      "Epoch 1\n",
      "-------------------------------\n",
      "loss: 1.849588  [    0/160000]\n",
      "loss: 0.999104  [ 3200/160000]\n",
      "loss: 1.083622  [ 6400/160000]\n",
      "loss: 0.659812  [ 9600/160000]\n",
      "loss: 0.538239  [12800/160000]\n",
      "loss: 0.503493  [16000/160000]\n",
      "loss: 0.520776  [19200/160000]\n",
      "loss: 0.547975  [22400/160000]\n",
      "loss: 0.470417  [25600/160000]\n",
      "loss: 0.367276  [28800/160000]\n",
      "loss: 0.500437  [32000/160000]\n",
      "loss: 0.433457  [35200/160000]\n",
      "loss: 0.313173  [38400/160000]\n",
      "loss: 0.454808  [41600/160000]\n",
      "loss: 0.505045  [44800/160000]\n",
      "loss: 0.392350  [48000/160000]\n",
      "loss: 0.474050  [51200/160000]\n",
      "loss: 0.541405  [54400/160000]\n",
      "loss: 0.422453  [57600/160000]\n",
      "loss: 0.457403  [60800/160000]\n",
      "loss: 0.513172  [64000/160000]\n",
      "loss: 0.368042  [67200/160000]\n",
      "loss: 0.649226  [70400/160000]\n",
      "loss: 0.533731  [73600/160000]\n",
      "loss: 0.505528  [76800/160000]\n",
      "loss: 0.510948  [80000/160000]\n",
      "loss: 0.717671  [83200/160000]\n",
      "loss: 0.443483  [86400/160000]\n",
      "loss: 0.516442  [89600/160000]\n",
      "loss: 0.667437  [92800/160000]\n",
      "loss: 0.508607  [96000/160000]\n",
      "loss: 0.392982  [99200/160000]\n",
      "loss: 0.425679  [102400/160000]\n",
      "loss: 0.509461  [105600/160000]\n",
      "loss: 0.485680  [108800/160000]\n",
      "loss: 0.525193  [112000/160000]\n",
      "loss: 0.524243  [115200/160000]\n",
      "loss: 0.513899  [118400/160000]\n",
      "loss: 0.586108  [121600/160000]\n",
      "loss: 0.434039  [124800/160000]\n",
      "loss: 0.390603  [128000/160000]\n",
      "loss: 0.326309  [131200/160000]\n",
      "loss: 0.454901  [134400/160000]\n",
      "loss: 0.297592  [137600/160000]\n",
      "loss: 0.584487  [140800/160000]\n",
      "loss: 0.440005  [144000/160000]\n",
      "loss: 0.443130  [147200/160000]\n",
      "loss: 0.470322  [150400/160000]\n",
      "loss: 0.564391  [153600/160000]\n",
      "loss: 0.467620  [156800/160000]\n",
      "Avg loss: 0.496848 \n",
      "\n",
      "Epoch 2\n",
      "-------------------------------\n",
      "loss: 0.485313  [    0/160000]\n",
      "loss: 0.492348  [ 3200/160000]\n",
      "loss: 0.662963  [ 6400/160000]\n",
      "loss: 0.428551  [ 9600/160000]\n",
      "loss: 0.519893  [12800/160000]\n",
      "loss: 0.432828  [16000/160000]\n",
      "loss: 0.530435  [19200/160000]\n",
      "loss: 0.437864  [22400/160000]\n",
      "loss: 0.476488  [25600/160000]\n",
      "loss: 0.669249  [28800/160000]\n",
      "loss: 0.458169  [32000/160000]\n"
     ]
    },
    {
     "ename": "KeyboardInterrupt",
     "evalue": "",
     "output_type": "error",
     "traceback": [
      "\u001b[1;31m---------------------------------------------------------------------------\u001b[0m",
      "\u001b[1;31mKeyboardInterrupt\u001b[0m                         Traceback (most recent call last)",
      "\u001b[1;32m~\\AppData\\Local\\Temp/ipykernel_8292/234530828.py\u001b[0m in \u001b[0;36m<module>\u001b[1;34m\u001b[0m\n\u001b[0;32m      1\u001b[0m \u001b[1;32mfor\u001b[0m \u001b[0mt\u001b[0m \u001b[1;32min\u001b[0m \u001b[0mrange\u001b[0m\u001b[1;33m(\u001b[0m\u001b[0mepochs\u001b[0m\u001b[1;33m)\u001b[0m\u001b[1;33m:\u001b[0m\u001b[1;33m\u001b[0m\u001b[1;33m\u001b[0m\u001b[0m\n\u001b[0;32m      2\u001b[0m     \u001b[0mprint\u001b[0m\u001b[1;33m(\u001b[0m\u001b[1;34mf\"Epoch {t+1}\\n-------------------------------\"\u001b[0m\u001b[1;33m)\u001b[0m\u001b[1;33m\u001b[0m\u001b[1;33m\u001b[0m\u001b[0m\n\u001b[1;32m----> 3\u001b[1;33m     \u001b[0mtrain_loop\u001b[0m\u001b[1;33m(\u001b[0m\u001b[0mtrain_dataloader\u001b[0m\u001b[1;33m,\u001b[0m  \u001b[0mcaption_model\u001b[0m\u001b[1;33m,\u001b[0m \u001b[0mloss_fn\u001b[0m\u001b[1;33m,\u001b[0m \u001b[0mcpt_optimizer\u001b[0m\u001b[1;33m)\u001b[0m\u001b[1;33m\u001b[0m\u001b[1;33m\u001b[0m\u001b[0m\n\u001b[0m\u001b[0;32m      4\u001b[0m     \u001b[0mloss\u001b[0m \u001b[1;33m=\u001b[0m \u001b[0mtest_loop\u001b[0m\u001b[1;33m(\u001b[0m\u001b[0mtest_dataloader\u001b[0m\u001b[1;33m,\u001b[0m\u001b[0mcaption_model\u001b[0m\u001b[1;33m,\u001b[0m \u001b[0mloss_fn\u001b[0m\u001b[1;33m)\u001b[0m\u001b[1;33m\u001b[0m\u001b[1;33m\u001b[0m\u001b[0m\n\u001b[0;32m      5\u001b[0m \u001b[0mprint\u001b[0m\u001b[1;33m(\u001b[0m\u001b[1;34m\"Done!\"\u001b[0m\u001b[1;33m)\u001b[0m\u001b[1;33m\u001b[0m\u001b[1;33m\u001b[0m\u001b[0m\n",
      "\u001b[1;32m~\\AppData\\Local\\Temp/ipykernel_8292/3619379607.py\u001b[0m in \u001b[0;36mtrain_loop\u001b[1;34m(dataloader, cpt_model, loss_fn, cpt_opt)\u001b[0m\n\u001b[0;32m      3\u001b[0m     \u001b[1;32mfor\u001b[0m \u001b[0mbatch\u001b[0m\u001b[1;33m,\u001b[0m \u001b[1;33m(\u001b[0m\u001b[0mimg\u001b[0m\u001b[1;33m,\u001b[0m \u001b[0mcap\u001b[0m\u001b[1;33m,\u001b[0m \u001b[0mlabel\u001b[0m\u001b[1;33m)\u001b[0m \u001b[1;32min\u001b[0m \u001b[0menumerate\u001b[0m\u001b[1;33m(\u001b[0m\u001b[0mdataloader\u001b[0m\u001b[1;33m)\u001b[0m\u001b[1;33m:\u001b[0m\u001b[1;33m\u001b[0m\u001b[1;33m\u001b[0m\u001b[0m\n\u001b[0;32m      4\u001b[0m         \u001b[1;31m# 予測と損失の計算\u001b[0m\u001b[1;33m\u001b[0m\u001b[1;33m\u001b[0m\u001b[0m\n\u001b[1;32m----> 5\u001b[1;33m         \u001b[0mimg\u001b[0m \u001b[1;33m=\u001b[0m \u001b[0mimg\u001b[0m\u001b[1;33m.\u001b[0m\u001b[0mto\u001b[0m\u001b[1;33m(\u001b[0m\u001b[0mdevice\u001b[0m\u001b[1;33m)\u001b[0m\u001b[1;33m\u001b[0m\u001b[1;33m\u001b[0m\u001b[0m\n\u001b[0m\u001b[0;32m      6\u001b[0m         \u001b[0mlabel\u001b[0m \u001b[1;33m=\u001b[0m \u001b[0mlabel\u001b[0m\u001b[1;33m.\u001b[0m\u001b[0mto\u001b[0m\u001b[1;33m(\u001b[0m\u001b[0mdevice\u001b[0m\u001b[1;33m)\u001b[0m\u001b[1;33m\u001b[0m\u001b[1;33m\u001b[0m\u001b[0m\n\u001b[0;32m      7\u001b[0m         \u001b[0mids\u001b[0m \u001b[1;33m=\u001b[0m \u001b[0mtokenizer\u001b[0m\u001b[1;33m.\u001b[0m\u001b[0mencode\u001b[0m\u001b[1;33m(\u001b[0m\u001b[0mcap\u001b[0m\u001b[1;33m,\u001b[0m \u001b[0mreturn_tensors\u001b[0m\u001b[1;33m=\u001b[0m\u001b[1;34m'pt'\u001b[0m\u001b[1;33m)\u001b[0m\u001b[1;33m\u001b[0m\u001b[1;33m\u001b[0m\u001b[0m\n",
      "\u001b[1;31mKeyboardInterrupt\u001b[0m: "
     ]
    }
   ],
   "source": [
    "for t in range(epochs):\n",
    "    print(f\"Epoch {t+1}\\n-------------------------------\")\n",
    "    train_loop(train_dataloader,  caption_model, loss_fn, cpt_optimizer)\n",
    "    loss = test_loop(test_dataloader,caption_model, loss_fn)\n",
    "print(\"Done!\")"
   ]
  },
  {
   "cell_type": "code",
   "execution_count": 11,
   "metadata": {},
   "outputs": [],
   "source": [
    "from datetime import datetime\n",
    "\n",
    "# 現在の日付を取得します\n",
    "now = datetime.now()\n",
    "\n",
    "# YYYY-MM-DD形式で日付を出力します\n",
    "formatted_date = now.strftime(\"%Y-%m-%d\")\n",
    "\n",
    "torch.save(caption_model.state_dict(), f'clip_model_caption_{formatted_date}.pth')"
   ]
  }
 ],
 "metadata": {
  "kernelspec": {
   "display_name": "base",
   "language": "python",
   "name": "python3"
  },
  "language_info": {
   "codemirror_mode": {
    "name": "ipython",
    "version": 3
   },
   "file_extension": ".py",
   "mimetype": "text/x-python",
   "name": "python",
   "nbconvert_exporter": "python",
   "pygments_lexer": "ipython3",
   "version": "3.9.7"
  },
  "orig_nbformat": 4
 },
 "nbformat": 4,
 "nbformat_minor": 2
}
