{
 "cells": [
  {
   "cell_type": "code",
   "execution_count": 1,
   "metadata": {},
   "outputs": [],
   "source": [
    "import random\n",
    "from util_class.ImageStruct import ImageStruct\n",
    "import heapq\n",
    "import torch"
   ]
  },
  {
   "cell_type": "code",
   "execution_count": 2,
   "metadata": {},
   "outputs": [],
   "source": [
    "annotation_file, tensor_file = \\\n",
    "      './data/anotation_new.csv', './image_tensor/model_image_2023-07-08/resnet50_tensor.pt'\n",
    "images = ImageStruct(annotation_file, tensor_file)"
   ]
  },
  {
   "cell_type": "code",
   "execution_count": 3,
   "metadata": {},
   "outputs": [
    {
     "data": {
      "text/plain": [
       "('ニット × 白（ホワイト）',\n",
       " ' リズミカルに描いたマルチボーダーがインパクトを放つニットプルオーバー。コットンアクリルをハイゲージで編み込み、季節らしい爽やかな風合いに仕上げました。デニムとの相性もよく、こなれ感たっぷりのカジュアルコーデが完成します。')"
      ]
     },
     "execution_count": 3,
     "metadata": {},
     "output_type": "execute_result"
    }
   ],
   "source": [
    "src_index = random.randint(0, len(images))\n",
    "s_img_tensor, s_img_path, s_category, s_caption = images.get(src_index)\n",
    "s_category, s_caption"
   ]
  },
  {
   "cell_type": "code",
   "execution_count": 4,
   "metadata": {},
   "outputs": [
    {
     "name": "stderr",
     "output_type": "stream",
     "text": [
      "Some weights of the model checkpoint at cl-tohoku/bert-base-japanese-v2 were not used when initializing BertModel: ['cls.predictions.transform.dense.weight', 'cls.seq_relationship.weight', 'cls.predictions.transform.LayerNorm.weight', 'cls.predictions.transform.dense.bias', 'cls.predictions.transform.LayerNorm.bias', 'cls.predictions.decoder.bias', 'cls.seq_relationship.bias', 'cls.predictions.decoder.weight', 'cls.predictions.bias']\n",
      "- This IS expected if you are initializing BertModel from the checkpoint of a model trained on another task or with another architecture (e.g. initializing a BertForSequenceClassification model from a BertForPreTraining model).\n",
      "- This IS NOT expected if you are initializing BertModel from the checkpoint of a model that you expect to be exactly identical (initializing a BertForSequenceClassification model from a BertForSequenceClassification model).\n"
     ]
    }
   ],
   "source": [
    "import torchvision.transforms as transforms\n",
    "from PIL import Image\n",
    "from transformers import AutoTokenizer, AutoModel\n",
    "import torch.nn as nn\n",
    "\n",
    "if torch.cuda.is_available():\n",
    "    device = torch.device(\"cuda\")  # GPUデバイスを取得\n",
    "else:\n",
    "    device = torch.device(\"cpu\")  # CPUデバイスを取得\n",
    "class CaptionEncoder(nn.Module):\n",
    "  def __init__(self):\n",
    "    super().__init__()\n",
    "    self.bert = AutoModel.from_pretrained(\"cl-tohoku/bert-base-japanese-v2\")\n",
    "  def forward(self, x):\n",
    "    x = self.bert(x)\n",
    "    x = x.last_hidden_state\n",
    "    # print(x.shape)\n",
    "    x = x[:,0,:] \n",
    "    # print(x.shape)\n",
    "    return x\n",
    "\n",
    "model_name =  './model/model_caption_2023-07-08.pth'\n",
    "caption_model = CaptionEncoder().to(device)\n",
    "caption_model.load_state_dict(torch.load(model_name))\n",
    "caption_model.eval()\n",
    "\n",
    "tokenizer = AutoTokenizer.from_pretrained(\"cl-tohoku/bert-base-japanese-v2\")\n"
   ]
  },
  {
   "cell_type": "code",
   "execution_count": 31,
   "metadata": {},
   "outputs": [],
   "source": [
    "input_text = \"夏 薄着 暑い 白い 白\"\n",
    "ids = tokenizer.encode(input_text, return_tensors='pt')\n",
    "ids = ids.to(device)\n",
    "s_caption_tensor = caption_model(ids)[0].to('cpu')"
   ]
  },
  {
   "cell_type": "code",
   "execution_count": 13,
   "metadata": {},
   "outputs": [],
   "source": [
    "from util.category import get_item_id"
   ]
  },
  {
   "cell_type": "code",
   "execution_count": 32,
   "metadata": {},
   "outputs": [
    {
     "name": "stdout",
     "output_type": "stream",
     "text": [
      "0.0 %\n",
      "1.0 %\n",
      "2.0 %\n",
      "3.0 %\n",
      "4.0 %\n",
      "5.0 %\n",
      "6.0 %\n",
      "7.0 %\n",
      "8.0 %\n",
      "9.0 %\n",
      "10.0 %\n",
      "11.0 %\n",
      "12.0 %\n",
      "13.0 %\n",
      "14.0 %\n",
      "15.0 %\n",
      "16.0 %\n",
      "17.0 %\n",
      "18.0 %\n",
      "19.0 %\n",
      "20.0 %\n",
      "21.0 %\n",
      "22.0 %\n",
      "23.0 %\n",
      "24.0 %\n",
      "25.0 %\n",
      "26.0 %\n",
      "27.0 %\n",
      "28.0 %\n",
      "29.0 %\n",
      "30.0 %\n"
     ]
    }
   ],
   "source": [
    "\n",
    "heap = []\n",
    "MAX = 100000\n",
    "for i in range(MAX):\n",
    "    if (i % 1000 == 0):\n",
    "        print(f\"{i * 100 / MAX} %\")\n",
    "    # img_tensor, img_path, category\n",
    "    t_img_tensor, t_img_path, t_category, _ = images.get(i)\n",
    "    t_id = get_item_id(t_img_path)\n",
    "    heap_ids = [get_item_id(i[1]) for i in heap]\n",
    "    if (t_id in heap_ids):\n",
    "        continue\n",
    "    # print(s_category, t_category)\n",
    "    # if (s_category != t_category):\n",
    "    #     continue\n",
    "    dist = torch.dist(s_caption_tensor, t_img_tensor, p=2)\n",
    "    heapq.heappush(heap, (-dist.item(), t_img_path))\n",
    "    if (len(heap) > 10):\n",
    "        heapq.heappop(heap)\n",
    "    \n",
    "for i in range(len(heap)):\n",
    "    print(heap[i])"
   ]
  },
  {
   "cell_type": "code",
   "execution_count": null,
   "metadata": {},
   "outputs": [],
   "source": [
    "from util.save_combined_image import save_combined_image\n",
    "\n",
    "from datetime import datetime\n",
    "import os\n",
    "\n",
    "# 現在の日付を取得します\n",
    "now = datetime.now()\n",
    "\n",
    "# YYYY-MM-DD形式で日付を出力します\n",
    "formatted_date = now.strftime(\"%m-%d\")\n",
    "os.mkdir(f'./result/{formatted_date}/{input_text}')\n",
    "\n",
    "save_combined_image(s_img_path, [i[1] for i in heap], f'./result/{formatted_date}/{input_text}/normal.png')"
   ]
  },
  {
   "attachments": {},
   "cell_type": "markdown",
   "metadata": {},
   "source": []
  }
 ],
 "metadata": {
  "kernelspec": {
   "display_name": "base",
   "language": "python",
   "name": "python3"
  },
  "language_info": {
   "codemirror_mode": {
    "name": "ipython",
    "version": 3
   },
   "file_extension": ".py",
   "mimetype": "text/x-python",
   "name": "python",
   "nbconvert_exporter": "python",
   "pygments_lexer": "ipython3",
   "version": "3.9.7"
  },
  "orig_nbformat": 4
 },
 "nbformat": 4,
 "nbformat_minor": 2
}
